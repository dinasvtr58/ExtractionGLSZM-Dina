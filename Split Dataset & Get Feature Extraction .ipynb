{
 "cells": [
  {
   "cell_type": "markdown",
   "metadata": {
    "id": "oL4aUKjJQmjg"
   },
   "source": [
    "# Mempersiapkan Dataset"
   ]
  },
  {
   "cell_type": "code",
   "execution_count": null,
   "metadata": {
    "id": "QRQ5JQqyQhIL"
   },
   "outputs": [],
   "source": [
    "import os\n",
    "import random\n",
    "\n",
    "def generate_random_sample(base_folder):\n",
    "    # Inisialisasi daftar untuk menyimpan path gambar yang terpilih\n",
    "    gambar_terpilih = []\n",
    "\n",
    "    # Membuat kamus untuk mengelompokkan nama file berdasarkan nama kelompok\n",
    "    kelompok_dict = {}\n",
    "\n",
    "    # Loop melalui semua file dalam direktori\n",
    "    for root, _, files in os.walk(base_folder):\n",
    "        for file_name in files:\n",
    "            # Memisahkan nama file dari ekstensinya\n",
    "            nama_file, ext = os.path.splitext(file_name)\n",
    "\n",
    "            # Membagi nama file menjadi komponen berdasarkan _\n",
    "            components = nama_file.split(' ')[1:-1]\n",
    "\n",
    "            # Menggunakan komponen pertama sebagai nama kelompok\n",
    "            kelompok = ' '.join(components)\n",
    "\n",
    "            # Menambahkan path lengkap ke file ke dalam kamus kelompok\n",
    "            if kelompok in kelompok_dict:\n",
    "                kelompok_dict[kelompok].append(os.path.join(root, file_name))\n",
    "            else:\n",
    "                kelompok_dict[kelompok] = [os.path.join(root, file_name)]\n",
    "\n",
    "    for kelompok in kelompok_dict:\n",
    "        files_in_kelompok = kelompok_dict[kelompok]\n",
    "\n",
    "        if len(files_in_kelompok) >= 10: #cek jumlah data setiap kelompok \n",
    "            two_random_files = random.sample(files_in_kelompok, 34) #34 berasal dari 30% dari semua data (dalam project ini ada 116 data)\n",
    "            gambar_terpilih.extend(two_random_files)\n",
    "            \n",
    "    print(len(gambar_terpilih))\n",
    "\n",
    "    return gambar_terpilih"
   ]
  },
  {
   "cell_type": "code",
   "execution_count": null,
   "metadata": {
    "colab": {
     "base_uri": "https://localhost:8080/",
     "height": 1000
    },
    "id": "LMJCZJDaRnrd",
    "outputId": "54531058-642b-4e51-fa7d-81ab33296f55"
   },
   "outputs": [],
   "source": [
    "# Path ke direktori yang berisi gambar\n",
    "base_folder = 'C:.../...' #sesuaikan dengan path folder dataset\n",
    "gambar_terpilih = generate_random_sample(base_folder)"
   ]
  },
  {
   "cell_type": "markdown",
   "metadata": {
    "id": "lgZ44_pXTcBA"
   },
   "source": [
    "# Copy Hasil Images Terpilih ke Dalam Folder Testing\n"
   ]
  },
  {
   "cell_type": "code",
   "execution_count": null,
   "metadata": {
    "id": "8Wq2i43MTetZ"
   },
   "outputs": [],
   "source": [
    "import shutil\n",
    "\n",
    "def copy_files(list_sumber_dir, tujuan_dir):\n",
    "  '''\n",
    "  Cek apakah direktori tujuan sudah ada,\n",
    "  Jika sudah ada dan ada isinya, hapus direktori tersebut\n",
    "  karena ingin membuat directori kosong\n",
    "  jika belum, buat direktori tersebut\n",
    "  '''\n",
    "  if os.path.exists(tujuan_dir):\n",
    "    shutil.rmtree(tujuan_dir)\n",
    "\n",
    "  if not os.path.exists(tujuan_dir):\n",
    "    os.makedirs(tujuan_dir)\n",
    "\n",
    "  for i in range(0, len(list_sumber_dir)):\n",
    "    shutil.copy(list_sumber_dir[i], tujuan_dir)\n",
    "\n",
    "  print(\"Proses menyalin images selesai.\")"
   ]
  },
  {
   "cell_type": "code",
   "execution_count": null,
   "metadata": {
    "colab": {
     "base_uri": "https://localhost:8080/"
    },
    "id": "Pwbg7mtjToMt",
    "outputId": "ade3d29a-22c4-426e-a8ec-6bc40fab64e8"
   },
   "outputs": [],
   "source": [
    "list_sumber_dir = gambar_terpilih\n",
    "tujuan_dir = \"C:.../...\" #sesuaikan dengan path direktori anda\n",
    "\n",
    "copy_files(list_sumber_dir, tujuan_dir)"
   ]
  },
  {
   "cell_type": "markdown",
   "metadata": {
    "id": "TNo2dUpQUKWV"
   },
   "source": [
    "# Buat Data Training"
   ]
  },
  {
   "cell_type": "code",
   "execution_count": null,
   "metadata": {
    "colab": {
     "base_uri": "https://localhost:8080/"
    },
    "id": "WU-oSXsoTwWD",
    "outputId": "48b9a240-9cac-4730-8173-485cd0d6de08"
   },
   "outputs": [],
   "source": [
    "testing = tujuan_dir\n",
    "\n",
    "# Tentukan Data Training Selain Images yg Terpilih sebagai Data Testing\n",
    "all_files = os.listdir(base_folder)\n",
    "testing = os.listdir(testing)\n",
    "print(\"Jumlah Data Testing: \" + str(len(testing)))\n",
    "\n",
    "training = [x for x in all_files if x not in testing]\n",
    "print(\"Jumlah Data Training: \" + str(len(training)))\n",
    "\n",
    "# Buat List Path Images untuk Training\n",
    "training_path = []\n",
    "for root, _, files in os.walk(base_folder):\n",
    "  for file_name in training:\n",
    "    training_path.append(os.path.join(root, file_name))\n",
    "\n",
    "training_path"
   ]
  },
  {
   "cell_type": "code",
   "execution_count": null,
   "metadata": {
    "colab": {
     "base_uri": "https://localhost:8080/"
    },
    "id": "AxL65O8ZUN-r",
    "outputId": "81329615-ada2-410a-c0cc-1090fcb85314"
   },
   "outputs": [],
   "source": [
    "new_list_sumber_dir = training_path\n",
    "new_tujuan_dir = \"C:.../...\" #sesuaikan dengan path direktori anda\n",
    "# copy_files(new_list_sumber_dir, new_tujuan_dir)"
   ]
  },
  {
   "cell_type": "markdown",
   "metadata": {
    "id": "p4b-ASTuakLh"
   },
   "source": [
    "# Pyfeats Textural Feature"
   ]
  },
  {
   "cell_type": "code",
   "execution_count": null,
   "metadata": {},
   "outputs": [],
   "source": [
    "'''\n",
    "REQUIREMENTS:\n",
    "- Python version                     3.8.5\n",
    "- opencv-python                      4.7.0.72\n",
    "- matplotlib                         3.3.2\n",
    "- pandas                             1.1.1\n",
    "- pyfeats                            1.0.0\n",
    "- os\n",
    "- re\n",
    "'''"
   ]
  },
  {
   "cell_type": "markdown",
   "metadata": {
    "id": "QRmS8zR2bN3g"
   },
   "source": [
    "# Import Images"
   ]
  },
  {
   "cell_type": "code",
   "execution_count": null,
   "metadata": {
    "id": "J2n8VQ2Iahrr"
   },
   "outputs": [],
   "source": [
    "import cv2\n",
    "import os\n",
    "import re\n",
    "\n",
    "def import_images(folder_path):\n",
    "    # Buat list kosong buat penampung images dan label images\n",
    "    images = []\n",
    "    labels = []\n",
    "    # inisialiasi bentuk regex\n",
    "    pattern = r'[ _]+'\n",
    "    # Memeriksa apakah folder tersebut ada\n",
    "    if os.path.exists(folder_path):\n",
    "        # Mendapatkan daftar file dalam folder\n",
    "        files = os.listdir(folder_path)\n",
    "        # Loop melalui setiap file dalam folder\n",
    "        for file_name in files:\n",
    "            # Memeriksa apakah file tersebut adalah file gambar (misalnya, dengan ekstensi .jpg atau .png)\n",
    "            if file_name.endswith(('.jpg', '.png', '.jpeg')):\n",
    "                # Menggabungkan path lengkap ke file gambar\n",
    "                image_path = os.path.join(folder_path, file_name)\n",
    "                file_name = os.path.basename(image_path)\n",
    "                # Mencari semua kata dalam nama file\n",
    "                words = re.findall(r'\\w+', file_name)\n",
    "                # Menggabungkan kata-kata tersebut menjadi satu string\n",
    "                result = ' '.join(words[0:-2])\n",
    "                # result = ' '.join(words[1:-2]) # Mengabaikan kata pertama (angka) dan dua kata terakhir (n_rotate_a dan ekstensi)\n",
    "                labels.append(result)\n",
    "                # Membaca gambar menggunakan OpenCV\n",
    "                image = cv2.imread(image_path)\n",
    "                gray = cv2.cvtColor(image, cv2.COLOR_BGR2GRAY) # Convert ke grayscale\n",
    "                images.append(gray)\n",
    "\n",
    "            else:\n",
    "                print(f\"Ignoring non-image file: {file_name}\")\n",
    "\n",
    "    else:\n",
    "        print(f\"Folder not found: {folder_path}\")\n",
    "\n",
    "    print(len(images))\n",
    "    print(len(labels))\n",
    "\n",
    "    return images, labels"
   ]
  },
  {
   "cell_type": "code",
   "execution_count": null,
   "metadata": {
    "colab": {
     "base_uri": "https://localhost:8080/"
    },
    "id": "mWq5vK-TbTyJ",
    "outputId": "b17c4ab7-72f4-4c56-dd4b-bb0898cb2d63"
   },
   "outputs": [],
   "source": [
    "# Data Training\n",
    "folder_path_training = r\"C:.../...\" # Path ini diganti tergantung direktori tempat simpan filenya\n",
    "images_training, labels_training = import_images(folder_path_training)\n",
    "\n",
    "# Data Testing\n",
    "folder_path_testing = r\"C:.../...\" # Path ini diganti tergantung direktori tempat simpan filenya\n",
    "images_testing, labels_testing = import_images(folder_path_testing)"
   ]
  },
  {
   "cell_type": "markdown",
   "metadata": {
    "id": "ldhpOnT-byxQ"
   },
   "source": [
    "# Show Image"
   ]
  },
  {
   "cell_type": "code",
   "execution_count": null,
   "metadata": {
    "id": "Z6mbZmUObtEA"
   },
   "outputs": [],
   "source": [
    "import matplotlib.pyplot as plt\n",
    "\n",
    "def show_image(images, labels):\n",
    "  plt.imshow(images[0], cmap='gray') # Tampilkan citra pada list images index 0\n",
    "  plt.title(labels[0])\n",
    "  plt.show()"
   ]
  },
  {
   "cell_type": "code",
   "execution_count": null,
   "metadata": {
    "colab": {
     "base_uri": "https://localhost:8080/",
     "height": 452
    },
    "id": "o7xUi0SZb1io",
    "outputId": "676d85a9-b061-499b-a7e5-43b0a7bdad88"
   },
   "outputs": [],
   "source": [
    "# Data Training\n",
    "show_image(images_training, labels_training)"
   ]
  },
  {
   "cell_type": "code",
   "execution_count": null,
   "metadata": {
    "colab": {
     "base_uri": "https://localhost:8080/",
     "height": 452
    },
    "id": "SMmWLcDib88w",
    "outputId": "c21b2192-5e93-41ba-f2f5-b3f88e09b286"
   },
   "outputs": [],
   "source": [
    "# Data Testing\n",
    "show_image(images_testing, labels_testing)"
   ]
  },
  {
   "cell_type": "markdown",
   "metadata": {
    "id": "3M9k5brtc5JU"
   },
   "source": [
    "# Pyfeat textural extraction"
   ]
  },
  {
   "cell_type": "code",
   "execution_count": null,
   "metadata": {
    "colab": {
     "base_uri": "https://localhost:8080/"
    },
    "id": "-QFDmu9xdE8J",
    "outputId": "e8cec13c-b87b-4e42-960a-b857d12c58dc"
   },
   "outputs": [],
   "source": [
    "!pip install pyfeats"
   ]
  },
  {
   "cell_type": "code",
   "execution_count": null,
   "metadata": {
    "id": "bVZXmSfvcBT6"
   },
   "outputs": [],
   "source": [
    "from pyfeats import *\n",
    "\n",
    "class Features():\n",
    "    def __init__(self):\n",
    "        self.GLSZM = []\n",
    "        self.Labels_GLSZM = []\n",
    "\n",
    "def extract_texture(images, mask = None):\n",
    "  GLSZM = []\n",
    "\n",
    "  for f in images:\n",
    "    features_GLSZM, labels_GLSZM = glszm_features(f, mask)\n",
    "    GLSZM.append(features_GLSZM)\n",
    "\n",
    "  # Panggil Class Features untuk membuat dan mengisi kamus features\n",
    "  features = Features()\n",
    "  features.GLSZM = GLSZM\n",
    "  features.Labels_GLSZM = labels_GLSZM\n",
    "\n",
    "  return features"
   ]
  },
  {
   "cell_type": "code",
   "execution_count": null,
   "metadata": {
    "id": "Yeq6lH7edAmx"
   },
   "outputs": [],
   "source": [
    "# Run function above\n",
    "# Training\n",
    "features_training = extract_texture(images_training)\n",
    "# Testing\n",
    "features_testing = extract_texture(images_testing)"
   ]
  },
  {
   "cell_type": "markdown",
   "metadata": {
    "id": "h74Jx-UzeK1N"
   },
   "source": [
    "# Transform ke Dataframe"
   ]
  },
  {
   "cell_type": "code",
   "execution_count": null,
   "metadata": {
    "id": "mnd6kQ5LdRfk"
   },
   "outputs": [],
   "source": [
    "import pandas as pd\n",
    "\n",
    "class Dataframes():\n",
    "    #structure of the solution\n",
    "    def __init__(self):\n",
    "      self.GLSZM = None\n",
    "      self.Class = None\n",
    "\n",
    "def convert2dataframe(features, labels):\n",
    "  df_GLSZM = pd.DataFrame(features.GLSZM, columns=features.Labels_GLSZM)\n",
    "  df_class = pd.DataFrame(labels, columns=[\"Class\"])\n",
    "\n",
    "  dataframe = Dataframes()\n",
    "  dataframe.GLSZM = df_GLSZM\n",
    "  dataframe.Class = df_class\n",
    "\n",
    "  return dataframe"
   ]
  },
  {
   "cell_type": "code",
   "execution_count": null,
   "metadata": {
    "id": "ud87xqLUeRVc"
   },
   "outputs": [],
   "source": [
    "# Run function above\n",
    "# Training\n",
    "Dataframes_train = convert2dataframe(features_training, labels_training)\n",
    "# Testing\n",
    "Dataframes_test = convert2dataframe(features_testing, labels_testing)"
   ]
  },
  {
   "cell_type": "markdown",
   "metadata": {},
   "source": [
    "# Dataframe GLSZM"
   ]
  },
  {
   "cell_type": "code",
   "execution_count": null,
   "metadata": {
    "id": "ibQraKk0DWvK"
   },
   "outputs": [],
   "source": [
    "Dataframes_train.GLSZM"
   ]
  },
  {
   "cell_type": "code",
   "execution_count": null,
   "metadata": {
    "id": "5N5NDdNUDWvL"
   },
   "outputs": [],
   "source": [
    "Dataframes_test.GLSZM"
   ]
  },
  {
   "cell_type": "markdown",
   "metadata": {
    "id": "DUvXSSgxDWvM"
   },
   "source": [
    "# Dataframe Class\n",
    "\n",
    "\n"
   ]
  },
  {
   "cell_type": "code",
   "execution_count": null,
   "metadata": {
    "id": "4e2Lk8YvDWvN"
   },
   "outputs": [],
   "source": [
    "Dataframes_train.Class"
   ]
  },
  {
   "cell_type": "code",
   "execution_count": null,
   "metadata": {
    "id": "HGukcWQcDWvO"
   },
   "outputs": [],
   "source": [
    "Dataframes_test.Class"
   ]
  },
  {
   "cell_type": "markdown",
   "metadata": {
    "id": "rqEa3RfODWvP"
   },
   "source": [
    "# Gabungkan Semua Dataframe"
   ]
  },
  {
   "cell_type": "code",
   "execution_count": null,
   "metadata": {
    "id": "Uct1fOsVDWvP"
   },
   "outputs": [],
   "source": [
    "df_result_training = pd.concat([Dataframes_train.GLSZM,\n",
    "                                Dataframes_train.Class], axis=1)\n",
    "# df_result_training"
   ]
  },
  {
   "cell_type": "code",
   "execution_count": null,
   "metadata": {
    "id": "YakVRX--DWvQ"
   },
   "outputs": [],
   "source": [
    "df_result_testing = pd.concat([Dataframes_test.GLSZM,\n",
    "                               Dataframes_test.Class], axis=1)\n",
    "# df_result_testing"
   ]
  },
  {
   "cell_type": "markdown",
   "metadata": {
    "id": "-CX3txsjDWvR"
   },
   "source": [
    "# Save Dataframe"
   ]
  },
  {
   "cell_type": "code",
   "execution_count": null,
   "metadata": {
    "id": "CdsbCZLWDWvS"
   },
   "outputs": [],
   "source": [
    "df_result_training.to_csv(\"C:.../.../Datasets Training GLSZM.csv\", index=False) #sesuaikan dengan path direktori anda\n",
    "df_result_testing.to_csv(\"C:.../.../Datasets Testing GLSZM.csv\", index=False) #sesuaikan dengan path direktori anda"
   ]
  }
 ],
 "metadata": {
  "accelerator": "TPU",
  "colab": {
   "provenance": [],
   "toc_visible": true
  },
  "kernelspec": {
   "display_name": "Python 3 (ipykernel)",
   "language": "python",
   "name": "python3"
  },
  "language_info": {
   "codemirror_mode": {
    "name": "ipython",
    "version": 3
   },
   "file_extension": ".py",
   "mimetype": "text/x-python",
   "name": "python",
   "nbconvert_exporter": "python",
   "pygments_lexer": "ipython3",
   "version": "3.11.5"
  }
 },
 "nbformat": 4,
 "nbformat_minor": 1
}
